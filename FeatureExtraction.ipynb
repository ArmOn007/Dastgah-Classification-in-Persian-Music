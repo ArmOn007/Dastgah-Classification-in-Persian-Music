{
  "cells": [
    {
      "cell_type": "code",
      "execution_count": null,
      "metadata": {
        "colab": {
          "base_uri": "https://localhost:8080/"
        },
        "id": "uF38MXq5UGLS",
        "outputId": "d90ca08e-201c-43e4-94dd-f576bdd58dda"
      },
      "outputs": [
        {
          "output_type": "stream",
          "name": "stdout",
          "text": [
            "Drive already mounted at /content/drive; to attempt to forcibly remount, call drive.mount(\"/content/drive\", force_remount=True).\n"
          ]
        }
      ],
      "source": [
        "from google.colab import drive\n",
        "drive.mount('/content/drive')"
      ]
    },
    {
      "cell_type": "code",
      "execution_count": null,
      "metadata": {
        "id": "MxY3rAfIYu0C"
      },
      "outputs": [],
      "source": [
        "import numpy as np\n",
        "import pandas as pd\n",
        "import librosa\n",
        "import warnings\n",
        "import os\n",
        "warnings.filterwarnings(\"ignore\")"
      ]
    },
    {
      "cell_type": "code",
      "execution_count": null,
      "metadata": {
        "id": "dSlTcbDuxlC0"
      },
      "outputs": [],
      "source": [
        "def extractFeatures(signal, sr):\n",
        "    features = []\n",
        "\n",
        "    #zero crossing\n",
        "    zero_crossing = librosa.zero_crossings(signal, pad = False)\n",
        "    features.append(zero_crossing.sum()) # f0\n",
        "\n",
        "    #spectral centroids\n",
        "    spectral_centroids = librosa.feature.spectral_centroid(signal, sr=sr)[0]\n",
        "    features.append(spectral_centroids.mean()) # f1\n",
        "    features.append(spectral_centroids.var()) # f2\n",
        "\n",
        "    #spectral rolloff\n",
        "    spectral_rolloff = librosa.feature.spectral_rolloff(signal+0.01, sr=sr)[0]\n",
        "    features.append(spectral_rolloff.mean()) # f3\n",
        "    features.append(spectral_rolloff.var()) # f4\n",
        "\n",
        "    #Chroma Frequencies\n",
        "    chromagram = librosa.feature.chroma_stft(signal, sr=sr)\n",
        "    features += chromagram.mean(axis=1).tolist() # f5 - f16\n",
        "    features += chromagram.var(axis=1).tolist() # f17 - f28\n",
        "    \n",
        "    #Mel-Frequency Cepstral Coefficients\n",
        "    MFCCs = librosa.feature.mfcc(signal)\n",
        "    features += MFCCs.mean(axis=1).tolist() # f29 - f48\n",
        "    features += MFCCs.var(axis=1).tolist() # f49 - f68\n",
        "\n",
        "    return features"
      ]
    },
    {
      "cell_type": "code",
      "execution_count": null,
      "metadata": {
        "colab": {
          "base_uri": "https://localhost:8080/"
        },
        "id": "5aX0AX3mbg6n",
        "outputId": "62e9a536-556b-4463-c8bb-c450861c92a2"
      },
      "outputs": [
        {
          "output_type": "stream",
          "name": "stdout",
          "text": [
            "processing on dastgah:  D_2\n",
            "\t processing on instrument:  I_4\n",
            "\t processing on instrument:  I_0\n",
            "\t processing on instrument:  I_5\n",
            "\t processing on instrument:  I_2\n",
            "\t processing on instrument:  I_3\n",
            "\t processing on instrument:  I_1\n",
            "processing on dastgah:  D_6\n",
            "\t processing on instrument:  I_4\n",
            "\t processing on instrument:  I_0\n",
            "\t processing on instrument:  I_2\n",
            "\t processing on instrument:  I_1\n",
            "\t processing on instrument:  I_5\n",
            "\t processing on instrument:  I_3\n",
            "processing on dastgah:  D_0\n",
            "\t processing on instrument:  I_5\n",
            "\t processing on instrument:  I_0\n",
            "\t processing on instrument:  I_3\n",
            "\t processing on instrument:  I_2\n",
            "\t processing on instrument:  I_4\n",
            "\t processing on instrument:  I_1\n",
            "processing on dastgah:  D_4\n",
            "\t processing on instrument:  I_2\n",
            "\t processing on instrument:  I_3\n",
            "\t processing on instrument:  I_5\n",
            "\t processing on instrument:  I_0\n",
            "\t processing on instrument:  I_4\n",
            "\t processing on instrument:  I_1\n",
            "processing on dastgah:  D_3\n",
            "\t processing on instrument:  I_2\n",
            "\t processing on instrument:  I_1\n",
            "\t processing on instrument:  I_0\n",
            "\t processing on instrument:  I_3\n",
            "\t processing on instrument:  I_4\n",
            "\t processing on instrument:  I_5\n",
            "processing on dastgah:  D_5\n",
            "\t processing on instrument:  I_0\n",
            "\t processing on instrument:  I_1\n",
            "\t processing on instrument:  I_6\n",
            "\t processing on instrument:  I_3\n",
            "\t processing on instrument:  I_5\n",
            "\t processing on instrument:  I_2\n",
            "\t processing on instrument:  I_4\n",
            "processing on dastgah:  D_1\n",
            "\t processing on instrument:  I_4\n",
            "\t processing on instrument:  I_0\n",
            "\t processing on instrument:  I_1\n",
            "\t processing on instrument:  I_2\n",
            "\t processing on instrument:  I_5\n",
            "\t processing on instrument:  I_3\n"
          ]
        }
      ],
      "source": [
        "df = pd.DataFrame(columns=['name', 'dastgah', 'instrument',\n",
        "                           'zero_corssing',\n",
        "                           'spectral_centroid_mean','spectral_centroid_var',\n",
        "                           'spectral_rolloff_mean','spectral_rolloff_var',\n",
        "                           'chroma_1_mean','chroma_2_mean','chroma_3_mean','chroma_4_mean','chroma_5_mean','chroma_6_mean','chroma_7_mean','chroma_8_mean','chroma_9_mean','chroma_10_mean','chroma_11_mean','chroma_12_mean',\n",
        "                           'chroma_1_var','chroma_2_var','chroma_3_var','chroma_4_var','chroma_5_var','chroma_6_var','chroma_7_var','chroma_8_var','chroma_9_var','chroma_10_var','chroma_11_var','chroma_12_var',\n",
        "                           'mfcc_1_mean','mfcc_2_mean','mfcc_3_mean','mfcc_4_mean','mfcc_5_mean','mfcc_6_mean','mfcc_7_mean','mfcc_8_mean','mfcc_9_mean','mfcc_10_mean','mfcc_11_mean','mfcc_12_mean','mfcc_13_mean','mfcc_14_mean','mfcc_15_mean','mfcc_16_mean','mfcc_17_mean','mfcc_18_mean','mfcc_19_mean','mfcc_20_mean',\n",
        "                           'mfcc_1_var','mfcc_2_var','mfcc_3_var','mfcc_4_var','mfcc_5_var','mfcc_6_var','mfcc_7_var','mfcc_8_var','mfcc_9_var','mfcc_10_var','mfcc_11_var','mfcc_12_var','mfcc_13_var','mfcc_14_var','mfcc_15_var','mfcc_16_var','mfcc_17_var','mfcc_18_var','mfcc_19_var','mfcc_20_var'])\n",
        "\n",
        "parent_path = 'drive/MyDrive/ML_Data/ML_prj_2023'\n",
        "for dastgah in os.listdir(parent_path):\n",
        "    if dastgah != 'mlproject.csv':\n",
        "        print('processing on dastgah: ', dastgah)\n",
        "        for instrument in os.listdir(parent_path+'/'+dastgah):\n",
        "            print('\\t processing on instrument: ', instrument)\n",
        "            for music in os.listdir(parent_path+'/'+dastgah+'/'+instrument):\n",
        "                try:\n",
        "                    sig, sr = librosa.load(parent_path+'/'+dastgah+'/'+instrument+'/'+music, offset=0, duration=40)\n",
        "                    SAMPLES_TO_CONSIDER = sr * 40\n",
        "                    if len(sig) >= SAMPLES_TO_CONSIDER:\n",
        "                        sig = sig[:SAMPLES_TO_CONSIDER]\n",
        "                        features = extractFeatures(sig, sr)\n",
        "                        df.loc[len(df)] = [music, dastgah, instrument] + features\n",
        "                except:\n",
        "                    print(\"An exception occurred while reading %s\" %(music))"
      ]
    },
    {
      "cell_type": "code",
      "execution_count": null,
      "metadata": {
        "id": "o9NMf031Gadk"
      },
      "outputs": [],
      "source": [
        "from pathlib import Path\n",
        "filepath = Path('dataset.csv')  \n",
        "filepath.parent.mkdir(parents=True, exist_ok=True)\n",
        "df.to_csv(filepath, index=False)"
      ]
    }
  ],
  "metadata": {
    "colab": {
      "provenance": []
    },
    "kernelspec": {
      "display_name": "Python 3",
      "name": "python3"
    },
    "language_info": {
      "name": "python"
    }
  },
  "nbformat": 4,
  "nbformat_minor": 0
}